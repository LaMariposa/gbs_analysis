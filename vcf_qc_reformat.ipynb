{
 "cells": [
  {
   "cell_type": "code",
   "execution_count": null,
   "metadata": {
    "collapsed": false
   },
   "outputs": [],
   "source": [
    "#vcf input file\n",
    "vcffile=\"final.recode.vcf\"\n",
    "skipr=5211  #count header lines in command line (grep -c \"##\" batch_1.vcf)\n",
    "skipc=9  #non sample columns\n",
    "\n",
    "#samples \"database\"\n",
    "samplefile=\"/home/megan/megan/research/eucalyptus/eucalyptus_data/Emelliodora_PlantsSamples.csv\"\n",
    "accessionfile=\"/home/megan/megan/research/eucalyptus/eucalyptus_data/Emelliodora_Accessions.csv\""
   ]
  },
  {
   "cell_type": "code",
   "execution_count": null,
   "metadata": {
    "collapsed": true
   },
   "outputs": [],
   "source": [
    "%load_ext rpy2.ipython"
   ]
  },
  {
   "cell_type": "markdown",
   "metadata": {},
   "source": [
    "# read in metadata"
   ]
  },
  {
   "cell_type": "code",
   "execution_count": null,
   "metadata": {
    "collapsed": true
   },
   "outputs": [],
   "source": [
    "%%script env vcffile=\"$vcffile\" bash\n",
    "#get sample list\n",
    "grep \"^#CHROM\" $vcffile | sed 's/#CHROM\\tPOS\\tID\\tREF\\tALT\\tQUAL\\tFILTER\\tINFO\\tFORMAT\\t//'g > samples.txt"
   ]
  },
  {
   "cell_type": "code",
   "execution_count": null,
   "metadata": {
    "collapsed": false
   },
   "outputs": [],
   "source": [
    "%%R -i samplefile,accessionfile -o samples\n",
    "\n",
    "#get sample list\n",
    "sample_list=scan(\"samples.txt\", what=\"character\", sep=\"\\t\")\n",
    "\n",
    "#add sample metadata\n",
    "sampleinfo=read.csv(samplefile, header=T)  #read in sample information\n",
    "samplematches=match(sampleinfo$SampleID, sample_list)  #subset for just samples in this analysis\n",
    "samples=sampleinfo[!is.na(samplematches),][order(na.omit(samplematches)),]\n",
    "\n",
    "accessioninfo=read.csv(accessionfile, header=T)  #read in accession information\n",
    "accessionmatches=match(samples$AccessionID, accessioninfo$AccessionID)\n",
    "samples=cbind(samples,accessioninfo$Latitude[accessionmatches],accessioninfo$Longitude[accessionmatches],\n",
    "              accessioninfo$PopulationName[accessionmatches])\n",
    "names(samples)[names(samples)==\"accessioninfo$Latitude[accessionmatches]\"]=\"Latitude\"\n",
    "names(samples)[names(samples)==\"accessioninfo$Longitude[accessionmatches]\"]=\"Longitude\"\n",
    "names(samples)[names(samples)==\"accessioninfo$PopulationName[accessionmatches]\"]=\"PopulationName\"\n",
    "samples$PopulationName=droplevels(samples$PopulationName) #fix annoying extra level with no assignment"
   ]
  },
  {
   "cell_type": "markdown",
   "metadata": {},
   "source": [
    "# check for outliers"
   ]
  },
  {
   "cell_type": "code",
   "execution_count": null,
   "metadata": {
    "collapsed": false
   },
   "outputs": [],
   "source": [
    "%%R -i vcffile,samples,skipr,skipc -o genos.gi\n",
    "\n",
    "library(adegenet)\n",
    "\n",
    "#read in vcf, skipping ##header rows and removing other junk\n",
    "vcf=read.delim(vcffile, sep=\"\\t\", header=T, skip=skipr)\n",
    "vcf=vcf[c(-skipc:-1)] #remove non sample columns\n",
    "genos=apply(vcf,2,substr,1,3)  #get just genotypes\n",
    "genos=t(genos)  #transpose \n",
    "#row.names(genos)=substr(row.names(genos),9,14)  #get just sample ID\n",
    "genos[1:5,1:10]  #print bit to check its ok \n",
    "dim(genos)  #print number of samples and loci\n",
    "genos.filt=genos\n",
    "#format for input into genid object\n",
    "genos.filt[genos.filt == \"./.\"] <- NA\n",
    "#convert to genid object\n",
    "genos.gi <- df2genind(genos.filt,sep=\"/\",NA.char=NA)\n",
    "genos.gi"
   ]
  },
  {
   "cell_type": "code",
   "execution_count": null,
   "metadata": {
    "collapsed": false
   },
   "outputs": [],
   "source": [
    "%%R -i samples -o genos.gi\n",
    "\n",
    "#preliminary pca of genetic distance (to find additional outliers)\n",
    "genos.dist=dist(genos.gi)\n",
    "pcoa.genos=dudi.pco(genos.dist,scannf = F, nf = 3)\n",
    "percent_var=round(100*pcoa.genos$eig/sum(pcoa.genos$eig),1)\n",
    "#pdf(\"emellb_pca_280.pdf\")\n",
    "plot(pcoa.genos$li[,1:2], pch=\"\",\n",
    "   xlab = paste(\"PCOA axis 1 (\", percent_var[1],\"%)\"), ylab = paste(\"PCOA axis 2 (\", percent_var[2],\"%)\"))\n",
    "  #  xlim=c(-10,10),ylim=c(-15,10))\n",
    "text(pcoa.genos$li[,1:2], \n",
    "     label=samples$SampleName, cex = .6) #add names\n",
    "#dev.off()"
   ]
  },
  {
   "cell_type": "markdown",
   "metadata": {},
   "source": [
    "# summarize data (with outliers removed)"
   ]
  },
  {
   "cell_type": "code",
   "execution_count": null,
   "metadata": {
    "collapsed": false
   },
   "outputs": [],
   "source": [
    "%%script env vcffile=\"$vcffile\" bash\n",
    "\n",
    "### PUT SAMPLE ID's HERE FOR OUTLIERS FOR REMOVAL ###\n",
    "remove=\"--remove-indv S45093 --remove-indv S45095 --remove-indv S45193 --remove-indv S45194 --remove-indv S45195\"\n",
    "\n",
    "vcftools --vcf $vcffile $remove --depth\n",
    "vcftools --vcf $vcffile $remove --site-depth\n",
    "vcftools --vcf $vcffile $remove --site-mean-depth\n",
    "vcftools --vcf $vcffile $remove --missing-indv\n",
    "vcftools --vcf $vcffile $remove --missing-site\n",
    "vcftools --vcf $vcffile $remove --het\n",
    "vcftools --vcf $vcffile $remove --hardy\n",
    "vcftools --vcf $vcffile $remove --freq\n",
    "awk '{print $6}' out.frq | awk -F\":\" '{print $2}' > out.maf #generate maf file"
   ]
  },
  {
   "cell_type": "code",
   "execution_count": null,
   "metadata": {
    "collapsed": false,
    "scrolled": false
   },
   "outputs": [],
   "source": [
    "%%R\n",
    "\n",
    "#look at samples\n",
    "idepth=read.delim(\"out.idepth\")\n",
    "hist(idepth$MEAN_DEPTH, main=\"mean locus depth per individual\", xlab=\"mean depth\")\n",
    "imiss=read.delim(\"out.imiss\")\n",
    "hist(imiss$F_MISS, main=\"missingness per individual\", xlab=\"proportion missing\")\n",
    "plot(1-imiss$F_MISS, idepth$MEAN_DEPTH, main=\"by individual\", \n",
    "     xlab=\"proportion loci genotyped\", ylab=\"mean depth per locus\")\n",
    "\n",
    "#sample heterozygosity\n",
    "heteroz=read.delim(\"out.het\")\n",
    "hist(heteroz$F, main=\"sample inbreeding coefficient (F)\", xlab=\"F\")\n",
    "\n",
    "#look at loci\n",
    "ldepthtot=read.delim(\"out.ldepth\")\n",
    "ldepth=read.delim(\"out.ldepth.mean\")\n",
    "hist(ldepth$MEAN_DEPTH, main=\"mean individual depth per locus\", xlab=\"mean depth\")\n",
    "lmiss=read.delim(\"out.lmiss\")\n",
    "hist(lmiss$F_MISS, main=\"missingness per locus\", xlab=\"proportion missing\")\n",
    "plot(1-lmiss$F_MISS, ldepthtot$SUM_DEPTH, main=\"by locus\", \n",
    "     xlab=\"proportion individuals genotyped\", ylab=\"total locus depth\")\n",
    "\n",
    "#maf\n",
    "maf=scan(\"out.maf\")\n",
    "hist(maf,breaks=100, main=\"alternate allele frequency\", xlab=\"allele frequency\")\n",
    "\n",
    "#heterozygosity, hwe\n",
    "hwe=read.delim(\"out.hwe\")\n",
    "plot(maf,hwe$P_HWE, xlab=\"alternate allele frequency\", ylab=\"HWE (p-value)\")\n",
    "hist(hwe$P_HWE, main=\"HWE\", xlab=\"p-value\")\n",
    "hist(hwe$P_HET_DEFICIT, main=\"heterozygote deficit\", xlab=\"p-value\")\n",
    "hist(hwe$P_HET_EXCESS, main=\"heterozygote excess\", xlab=\"p-value\")\n",
    "hwe=read.delim(\"out.hwe\")\n",
    "obs_hwe=data.frame(do.call('rbind', strsplit(as.character(hwe$OBS.HOM1.HET.HOM2.),'/',fixed=TRUE)))\n",
    "obs_hwe=cbind(hwe$CHR,hwe$POS,obs_hwe)\n",
    "colnames(obs_hwe)=c(\"CHR\",\"POS\",\"homo1\",\"hets\",\"homo2\")\n",
    "obs_hwe$homo1=as.numeric(as.character(obs_hwe$homo1))\n",
    "obs_hwe$hets=as.numeric(as.character(obs_hwe$hets))\n",
    "obs_hwe$homo2=as.numeric(as.character(obs_hwe$homo2))\n",
    "obs_hwe$prop_homo1=as.numeric(as.character(obs_hwe$homo1))/(obs_hwe$homo1+obs_hwe$hets+obs_hwe$homo2)\n",
    "obs_hwe$prop_hets=as.numeric(as.character(obs_hwe$hets))/(obs_hwe$homo1+obs_hwe$hets+obs_hwe$homo2)\n",
    "obs_hwe$prop_homo2=as.numeric(as.character(obs_hwe$homo2))/(obs_hwe$homo1+obs_hwe$hets+obs_hwe$homo2)\n",
    "hist(obs_hwe$prop_homo1, main=\"proportion of homozygous for reference allele\", xlab=\"proportion\")\n",
    "hist(obs_hwe$prop_hets, main=\"proportion of heterozygotes\", xlab=\"proportion\")\n",
    "hist(obs_hwe$prop_homo2, main=\"proportion of homozygous for alternate allele\", xlab=\"proportion\")\n",
    "exp_hwe=data.frame(do.call('rbind', strsplit(as.character(hwe$E.HOM1.HET.HOM2.),'/',fixed=TRUE)))\n",
    "colnames(exp_hwe)=c(\"homo1\",\"hets\",\"homo2\")\n",
    "exp_hwe$hets=as.numeric(as.character(exp_hwe$hets))\n",
    "f=(exp_hwe$hets-obs_hwe$hets)/(exp_hwe$hets)\n",
    "hist(f, main=\"locus F ((exp-obs)/exp)\")\n",
    "\n",
    "#matrix of counts of homozygotes (ref/alt) and heterozygotes\n",
    "homohet_sum=matrix(data=NA, nrow=4, ncol=3)\n",
    "rownames(homohet_sum)=c(\"none\",\"one\",\"two or less\",\"more than two\")\n",
    "colnames(homohet_sum)=c(\"homo_ref\",\"het\",\"homo_alt\")\n",
    "homohet_sum[1,1]=sum(obs_hwe$homo1==0)\n",
    "homohet_sum[1,2]=sum(obs_hwe$hets==0)\n",
    "homohet_sum[1,3]=sum(obs_hwe$homo2==0)\n",
    "homohet_sum[2,1]=sum(obs_hwe$homo1==1)\n",
    "homohet_sum[2,2]=sum(obs_hwe$hets==1)\n",
    "homohet_sum[2,3]=sum(obs_hwe$homo2==1)\n",
    "homohet_sum[3,1]=sum(obs_hwe$homo1<=2)\n",
    "homohet_sum[3,2]=sum(obs_hwe$hets<=2)\n",
    "homohet_sum[3,3]=sum(obs_hwe$homo2<=2)\n",
    "homohet_sum[4,1]=sum(obs_hwe$homo1>2)\n",
    "homohet_sum[4,2]=sum(obs_hwe$hets>2)\n",
    "homohet_sum[4,3]=sum(obs_hwe$homo2>2)\n",
    "print(homohet_sum)"
   ]
  },
  {
   "cell_type": "markdown",
   "metadata": {},
   "source": [
    "# format genotype matrix, baypass"
   ]
  },
  {
   "cell_type": "code",
   "execution_count": null,
   "metadata": {
    "collapsed": false
   },
   "outputs": [],
   "source": [
    "%%R -i vcffile,skipr,skipc,samples -o genos\n",
    "\n",
    "library(stringr)\n",
    "\n",
    "#read in vcf, skipping ##header rows and removing other junk\n",
    "vcf=read.delim(vcffile, sep=\"\\t\", header=T, skip=skipr)\n",
    "loci_names=paste(vcf[,1],\"_\",vcf[,2], sep=\"\")\n",
    "vcf=vcf[c(-skipc:-1)] #remove non sample columns\n",
    "genos=apply(vcf,2,substr,1,3)  #get just genotypes\n",
    "genos=t(genos)  #transpose \n",
    "#row.names(genos)=substr(row.names(genos),9,14)  #get just sample ID\n",
    "colnames(genos)=loci_names\n",
    "#print(genos[1:3,1:5])  #print bit to check its ok \n",
    "print(dim(genos))  #print number of samples and loci\n",
    "\n",
    "#remove outliers\n",
    "genos.filt=genos\n",
    "### PUT SAMPLE ID's HERE FOR OUTLIERS FOR REMOVAL ###\n",
    "remove_ids=c(\"S45093\",\"S45095\",\"S45193\",\"S45194\",\"S45195\")\n",
    "genos.filt=genos.filt[!rownames(genos.filt) %in% remove_ids,]\n",
    "samples=samples[!samples$SampleID %in% remove_ids,]\n",
    "print(dim(samples))\n",
    "\n",
    "#put in matrix format\n",
    "#0=homoz alt allele #1=heterozygote #2=homoz ref allele\n",
    "genos.matrix=genos.filt\n",
    "genos.matrix[genos.matrix == \"./.\"] <- \"NA\"\n",
    "genos.matrix[genos.matrix == \"1/1\"] <- \"0\"\n",
    "genos.matrix[genos.matrix == \"0/1\"] <- \"1\"\n",
    "genos.matrix[genos.matrix == \"1/0\"] <- \"1\"\n",
    "genos.matrix[genos.matrix == \"0/0\"] <- \"2\"\n",
    "#print(genos.matrix[1:3,1:5])\n",
    "write.csv(genos.matrix, file=\"genos_matrix.csv\", row.names=T, col.names=T, append=F, quote=F)\n",
    "\n",
    "\n",
    "#put in baypass format\n",
    "#initilize matrix\n",
    "afs=matrix(, nrow=dim(genos.filt)[2], ncol=length(levels(samples$PopulationName))*2)\n",
    "row.names(afs)=loci_names\n",
    "pops_double=vector(mode=\"character\", length=length(levels(samples$PopulationName))*2)\n",
    "#get population allele frequencies\n",
    "#loop over populations\n",
    "for (i in 1:length(levels(samples$PopulationName)))\n",
    "    {\n",
    "        print(levels(samples$PopulationName)[i])\n",
    "        #subset for samples from the population\n",
    "        samples_pop=subset(samples, PopulationName==levels(samples$PopulationName)[i], \n",
    "                                select=c(SampleID))\n",
    "        print(dim(samples_pop)[1])\n",
    "        #get genotypes and count alleles at each locus\n",
    "        genos_pop=genos.filt[row.names(genos.filt) %in% samples_pop[,1],]\n",
    "        loci=apply(genos_pop,2,paste,collapse=\"\")\n",
    "        ref_count=str_count(loci,\"0\")\n",
    "        alt_count=str_count(loci,\"1\")\n",
    "        na_count=str_count(loci,\"[.]\")\n",
    "\n",
    "        #sanity check\n",
    "        if (sum(is.na(match((ref_count+alt_count+na_count),dim(samples_pop)[1]*2)))>0)\n",
    "            {print(\"warning--values do not add up for:\")\n",
    "             print(levels(samples$PopulationName)[i])\n",
    "            }\n",
    "        #print to matrix\n",
    "        afs[,i*2-1]=ref_count\n",
    "        afs[,i*2]=alt_count\n",
    "        pops_double[i*2-1]=paste(levels(samples$PopulationName)[i],\"_A\",sep=\"\")\n",
    "        pops_double[i*2]=paste(levels(samples$PopulationName)[i],\"_B\",sep=\"\")\n",
    "    }\n",
    "\n",
    "colnames(afs)=pops_double\n",
    "write.csv(afs, file=\"pop_alleles_baypass.csv\", row.names=T, col.names=T, append=F, quote=F)"
   ]
  }
 ],
 "metadata": {
  "kernelspec": {
   "display_name": "Python 2",
   "language": "python",
   "name": "python2"
  },
  "language_info": {
   "codemirror_mode": {
    "name": "ipython",
    "version": 2
   },
   "file_extension": ".py",
   "mimetype": "text/x-python",
   "name": "python",
   "nbconvert_exporter": "python",
   "pygments_lexer": "ipython2",
   "version": "2.7.6"
  }
 },
 "nbformat": 4,
 "nbformat_minor": 0
}
